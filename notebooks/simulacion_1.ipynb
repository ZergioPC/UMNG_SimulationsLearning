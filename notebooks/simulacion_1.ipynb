{
 "cells": [
  {
   "cell_type": "markdown",
   "id": "7da455b7-6e77-4147-b7d5-04e128e95b52",
   "metadata": {},
   "source": [
    "# **Clase 2. Simulacion de partículas**"
   ]
  },
  {
   "cell_type": "markdown",
   "id": "be094ea9-a64a-49db-98ef-d083ff9d445e",
   "metadata": {},
   "source": [
    "A continuacion debemos de simular el comportamiento de una partícula, para ello diseñamos la siguiente clase:\n",
    "| Class | Properties | Methods |\n",
    "|---|---|---|\n",
    "| Particula | * Posicion<br>* Velocidad<br>* Masa | Ecuacion() |"
   ]
  },
  {
   "cell_type": "code",
   "execution_count": null,
   "id": "bf5a7827-1340-48e7-bf18-0a76068dca59",
   "metadata": {},
   "outputs": [],
   "source": []
  },
  {
   "cell_type": "code",
   "execution_count": null,
   "id": "8a299596-cc64-4a63-85dc-57db12335990",
   "metadata": {},
   "outputs": [],
   "source": []
  }
 ],
 "metadata": {
  "kernelspec": {
   "display_name": "Python 3 (ipykernel)",
   "language": "python",
   "name": "python3"
  },
  "language_info": {
   "codemirror_mode": {
    "name": "ipython",
    "version": 3
   },
   "file_extension": ".py",
   "mimetype": "text/x-python",
   "name": "python",
   "nbconvert_exporter": "python",
   "pygments_lexer": "ipython3",
   "version": "3.13.1"
  }
 },
 "nbformat": 4,
 "nbformat_minor": 5
}
