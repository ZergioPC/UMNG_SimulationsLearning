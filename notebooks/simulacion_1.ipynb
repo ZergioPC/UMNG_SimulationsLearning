{
 "cells": [
  {
   "cell_type": "markdown",
   "id": "7da455b7-6e77-4147-b7d5-04e128e95b52",
   "metadata": {},
   "source": [
    "# **Simulacion de partículas**"
   ]
  },
  {
   "cell_type": "markdown",
   "id": "ff56381d-39dd-4fc4-a7dc-7984f12e8b59",
   "metadata": {},
   "source": [
    "## Conceptualización"
   ]
  },
  {
   "cell_type": "markdown",
   "id": "3a736488-7ce7-4227-a9fb-016151697bfc",
   "metadata": {},
   "source": [
    "Primero, observemos las siguientes relaciónes físicas:\n",
    "\n",
    "$$\n",
    "\\begin{align*}\n",
    "\\vec{\\dot{r}} &= \\vec{v} \\\\\n",
    "\\vec{\\dot{v}} &= \\frac{\\vec{F}}{m}\n",
    "\\end{align*}\n",
    "$$\n",
    "\n",
    "Donde:\n",
    "* $\\vec{\\dot{r}}$ Corresponde a la derivada del vector de posición $<x,y,z>$. Es decir, la **Velocidad**\n",
    "* $\\vec{\\dot{v}}$ Corresponde a la derivada del vector de velocidad $<v_x,v_y,v_z>$. Es decir, la **Aceleración**\n",
    "* $\\vec{F}$ Corresponde al vector de la **Fuerza**\n",
    "* $m$ Corresponde a la masa"
   ]
  },
  {
   "cell_type": "markdown",
   "id": "5b3db88f-2d93-4ef9-b948-ccccc16d1edc",
   "metadata": {},
   "source": [
    "Esto signifíca que podemos obtener la posición de un objeto unicamente con la sumatoria de fuerzas aplicadas sobre este"
   ]
  },
  {
   "cell_type": "markdown",
   "id": "5a8f2fcf-4989-4056-be76-3bde5cfd2271",
   "metadata": {},
   "source": [
    "## Clase Particula"
   ]
  },
  {
   "cell_type": "markdown",
   "id": "be094ea9-a64a-49db-98ef-d083ff9d445e",
   "metadata": {},
   "source": [
    "A continuacion debemos de simular el comportamiento de una partícula, para ello diseñamos la siguiente clase:\n",
    "|--- Particula ---|\n",
    "|:---|\n",
    "|+ **Y** *vector <$\\vec{r}$ $\\vec{v}$>* <br>+ **Masa** <br>+ **F** *Fuerza* <br>+ **dt** *Delta de tiempo*|\n",
    "|* sumarFuerzas() <br> * step()|\n"
   ]
  },
  {
   "cell_type": "code",
   "execution_count": null,
   "id": "8a299596-cc64-4a63-85dc-57db12335990",
   "metadata": {},
   "outputs": [],
   "source": []
  }
 ],
 "metadata": {
  "kernelspec": {
   "display_name": "Python 3 (ipykernel)",
   "language": "python",
   "name": "python3"
  },
  "language_info": {
   "codemirror_mode": {
    "name": "ipython",
    "version": 3
   },
   "file_extension": ".py",
   "mimetype": "text/x-python",
   "name": "python",
   "nbconvert_exporter": "python",
   "pygments_lexer": "ipython3",
   "version": "3.12.1"
  }
 },
 "nbformat": 4,
 "nbformat_minor": 5
}
